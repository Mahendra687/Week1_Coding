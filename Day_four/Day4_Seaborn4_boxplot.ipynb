{
 "cells": [
  {
   "cell_type": "markdown",
   "id": "49fb630d",
   "metadata": {},
   "source": [
    "**boxplot**\n",
    "* The main goal of boxplot is to find out the outlier's\n",
    "* It compare's the distribution btwm various categories\n",
    "* Categorical distribution plot"
   ]
  },
  {
   "cell_type": "code",
   "execution_count": 1,
   "id": "8f42a99e",
   "metadata": {},
   "outputs": [],
   "source": [
    "import matplotlib.pyplot as plt\n",
    "import seaborn as sns\n",
    "from pandas import*\n",
    "from numpy import*"
   ]
  },
  {
   "cell_type": "code",
   "execution_count": 3,
   "id": "0a5dee17",
   "metadata": {},
   "outputs": [
    {
     "name": "stdout",
     "output_type": "stream",
     "text": [
      "The data types: mpg             float64\n",
      "cylinders         int64\n",
      "displacement    float64\n",
      "horsepower      float64\n",
      "weight            int64\n",
      "acceleration    float64\n",
      "model_year        int64\n",
      "origin           object\n",
      "name             object\n",
      "dtype: object\n",
      "The shape of the data: (392, 9)\n",
      "The dimension of the data: 2\n"
     ]
    }
   ],
   "source": [
    "cars = sns.load_dataset('mpg').dropna()\n",
    "\n",
    "print(\"The data types:\",cars.dtypes)\n",
    "print(\"The shape of the data:\", cars.shape)\n",
    "print(\"The dimension of the data:\", cars.ndim)"
   ]
  },
  {
   "cell_type": "code",
   "execution_count": 6,
   "id": "f52056f1",
   "metadata": {},
   "outputs": [
    {
     "data": {
      "text/html": [
       "<div>\n",
       "<style scoped>\n",
       "    .dataframe tbody tr th:only-of-type {\n",
       "        vertical-align: middle;\n",
       "    }\n",
       "\n",
       "    .dataframe tbody tr th {\n",
       "        vertical-align: top;\n",
       "    }\n",
       "\n",
       "    .dataframe thead th {\n",
       "        text-align: right;\n",
       "    }\n",
       "</style>\n",
       "<table border=\"1\" class=\"dataframe\">\n",
       "  <thead>\n",
       "    <tr style=\"text-align: right;\">\n",
       "      <th></th>\n",
       "      <th>mpg</th>\n",
       "      <th>cylinders</th>\n",
       "      <th>displacement</th>\n",
       "      <th>horsepower</th>\n",
       "      <th>weight</th>\n",
       "      <th>acceleration</th>\n",
       "      <th>model_year</th>\n",
       "      <th>origin</th>\n",
       "      <th>name</th>\n",
       "    </tr>\n",
       "  </thead>\n",
       "  <tbody>\n",
       "    <tr>\n",
       "      <th>0</th>\n",
       "      <td>18.0</td>\n",
       "      <td>8</td>\n",
       "      <td>307.0</td>\n",
       "      <td>130.0</td>\n",
       "      <td>3504</td>\n",
       "      <td>12.0</td>\n",
       "      <td>70</td>\n",
       "      <td>usa</td>\n",
       "      <td>chevrolet chevelle malibu</td>\n",
       "    </tr>\n",
       "    <tr>\n",
       "      <th>1</th>\n",
       "      <td>15.0</td>\n",
       "      <td>8</td>\n",
       "      <td>350.0</td>\n",
       "      <td>165.0</td>\n",
       "      <td>3693</td>\n",
       "      <td>11.5</td>\n",
       "      <td>70</td>\n",
       "      <td>usa</td>\n",
       "      <td>buick skylark 320</td>\n",
       "    </tr>\n",
       "    <tr>\n",
       "      <th>2</th>\n",
       "      <td>18.0</td>\n",
       "      <td>8</td>\n",
       "      <td>318.0</td>\n",
       "      <td>150.0</td>\n",
       "      <td>3436</td>\n",
       "      <td>11.0</td>\n",
       "      <td>70</td>\n",
       "      <td>usa</td>\n",
       "      <td>plymouth satellite</td>\n",
       "    </tr>\n",
       "  </tbody>\n",
       "</table>\n",
       "</div>"
      ],
      "text/plain": [
       "    mpg  cylinders  displacement  horsepower  weight  acceleration  \\\n",
       "0  18.0          8         307.0       130.0    3504          12.0   \n",
       "1  15.0          8         350.0       165.0    3693          11.5   \n",
       "2  18.0          8         318.0       150.0    3436          11.0   \n",
       "\n",
       "   model_year origin                       name  \n",
       "0          70    usa  chevrolet chevelle malibu  \n",
       "1          70    usa          buick skylark 320  \n",
       "2          70    usa         plymouth satellite  "
      ]
     },
     "execution_count": 6,
     "metadata": {},
     "output_type": "execute_result"
    }
   ],
   "source": [
    "cars.head(3)"
   ]
  },
  {
   "cell_type": "code",
   "execution_count": 12,
   "id": "be422631",
   "metadata": {},
   "outputs": [
    {
     "data": {
      "text/plain": [
       "4    199\n",
       "8    103\n",
       "6     83\n",
       "3      4\n",
       "5      3\n",
       "Name: cylinders, dtype: int64"
      ]
     },
     "execution_count": 12,
     "metadata": {},
     "output_type": "execute_result"
    }
   ],
   "source": [
    "sns.set_style('white')\n",
    "\n",
    "cars.cylinders.value_counts()\n",
    "#print(\"Number's of cylinders each cars has:\", cars.cylinders.value_counts())"
   ]
  },
  {
   "cell_type": "markdown",
   "id": "b8671d7f",
   "metadata": {},
   "source": [
    "Filter down to only cars with even number of cylinders"
   ]
  },
  {
   "cell_type": "code",
   "execution_count": 14,
   "id": "b110b02e",
   "metadata": {},
   "outputs": [],
   "source": [
    "cars = cars[cars.cylinders.isin([4,6,8])] "
   ]
  },
  {
   "cell_type": "code",
   "execution_count": 19,
   "id": "1d449174",
   "metadata": {},
   "outputs": [
    {
     "name": "stderr",
     "output_type": "stream",
     "text": [
      "/home/m/anaconda3/lib/python3.9/site-packages/seaborn/_decorators.py:36: FutureWarning: Pass the following variable as a keyword arg: x. From version 0.12, the only valid positional argument will be `data`, and passing other arguments without an explicit keyword will result in an error or misinterpretation.\n",
      "  warnings.warn(\n"
     ]
    },
    {
     "data": {
      "image/png": "[encoded data removed]",
      "text/plain": [
       "<Figure size 432x288 with 1 Axes>"
      ]
     },
     "metadata": {
      "needs_background": "light"
     },
     "output_type": "display_data"
    }
   ],
   "source": [
    "#sns.boxplot(cars.mpg);\n",
    "sns.boxenplot(cars.mpg);"
   ]
  },
  {
   "cell_type": "code",
   "execution_count": 16,
   "id": "56147add",
   "metadata": {},
   "outputs": [
    {
     "data": {
      "text/html": [
       "<div>\n",
       "<style scoped>\n",
       "    .dataframe tbody tr th:only-of-type {\n",
       "        vertical-align: middle;\n",
       "    }\n",
       "\n",
       "    .dataframe tbody tr th {\n",
       "        vertical-align: top;\n",
       "    }\n",
       "\n",
       "    .dataframe thead th {\n",
       "        text-align: right;\n",
       "    }\n",
       "</style>\n",
       "<table border=\"1\" class=\"dataframe\">\n",
       "  <thead>\n",
       "    <tr style=\"text-align: right;\">\n",
       "      <th></th>\n",
       "      <th>mpg</th>\n",
       "      <th>cylinders</th>\n",
       "      <th>displacement</th>\n",
       "      <th>horsepower</th>\n",
       "      <th>weight</th>\n",
       "      <th>acceleration</th>\n",
       "      <th>model_year</th>\n",
       "    </tr>\n",
       "  </thead>\n",
       "  <tbody>\n",
       "    <tr>\n",
       "      <th>count</th>\n",
       "      <td>385.000000</td>\n",
       "      <td>385.000000</td>\n",
       "      <td>385.000000</td>\n",
       "      <td>385.000000</td>\n",
       "      <td>385.000000</td>\n",
       "      <td>385.000000</td>\n",
       "      <td>385.000000</td>\n",
       "    </tr>\n",
       "    <tr>\n",
       "      <th>mean</th>\n",
       "      <td>23.445455</td>\n",
       "      <td>5.501299</td>\n",
       "      <td>196.063636</td>\n",
       "      <td>104.696104</td>\n",
       "      <td>2982.620779</td>\n",
       "      <td>15.541039</td>\n",
       "      <td>75.961039</td>\n",
       "    </tr>\n",
       "    <tr>\n",
       "      <th>std</th>\n",
       "      <td>7.836911</td>\n",
       "      <td>1.701906</td>\n",
       "      <td>104.725306</td>\n",
       "      <td>38.756634</td>\n",
       "      <td>854.275138</td>\n",
       "      <td>2.754906</td>\n",
       "      <td>3.692058</td>\n",
       "    </tr>\n",
       "    <tr>\n",
       "      <th>min</th>\n",
       "      <td>9.000000</td>\n",
       "      <td>4.000000</td>\n",
       "      <td>68.000000</td>\n",
       "      <td>46.000000</td>\n",
       "      <td>1613.000000</td>\n",
       "      <td>8.000000</td>\n",
       "      <td>70.000000</td>\n",
       "    </tr>\n",
       "    <tr>\n",
       "      <th>25%</th>\n",
       "      <td>17.000000</td>\n",
       "      <td>4.000000</td>\n",
       "      <td>105.000000</td>\n",
       "      <td>75.000000</td>\n",
       "      <td>2223.000000</td>\n",
       "      <td>13.900000</td>\n",
       "      <td>73.000000</td>\n",
       "    </tr>\n",
       "    <tr>\n",
       "      <th>50%</th>\n",
       "      <td>23.000000</td>\n",
       "      <td>4.000000</td>\n",
       "      <td>151.000000</td>\n",
       "      <td>93.000000</td>\n",
       "      <td>2807.000000</td>\n",
       "      <td>15.500000</td>\n",
       "      <td>76.000000</td>\n",
       "    </tr>\n",
       "    <tr>\n",
       "      <th>75%</th>\n",
       "      <td>29.000000</td>\n",
       "      <td>8.000000</td>\n",
       "      <td>302.000000</td>\n",
       "      <td>129.000000</td>\n",
       "      <td>3630.000000</td>\n",
       "      <td>17.000000</td>\n",
       "      <td>79.000000</td>\n",
       "    </tr>\n",
       "    <tr>\n",
       "      <th>max</th>\n",
       "      <td>46.600000</td>\n",
       "      <td>8.000000</td>\n",
       "      <td>455.000000</td>\n",
       "      <td>230.000000</td>\n",
       "      <td>5140.000000</td>\n",
       "      <td>24.800000</td>\n",
       "      <td>82.000000</td>\n",
       "    </tr>\n",
       "  </tbody>\n",
       "</table>\n",
       "</div>"
      ],
      "text/plain": [
       "              mpg   cylinders  displacement  horsepower       weight  \\\n",
       "count  385.000000  385.000000    385.000000  385.000000   385.000000   \n",
       "mean    23.445455    5.501299    196.063636  104.696104  2982.620779   \n",
       "std      7.836911    1.701906    104.725306   38.756634   854.275138   \n",
       "min      9.000000    4.000000     68.000000   46.000000  1613.000000   \n",
       "25%     17.000000    4.000000    105.000000   75.000000  2223.000000   \n",
       "50%     23.000000    4.000000    151.000000   93.000000  2807.000000   \n",
       "75%     29.000000    8.000000    302.000000  129.000000  3630.000000   \n",
       "max     46.600000    8.000000    455.000000  230.000000  5140.000000   \n",
       "\n",
       "       acceleration  model_year  \n",
       "count    385.000000  385.000000  \n",
       "mean      15.541039   75.961039  \n",
       "std        2.754906    3.692058  \n",
       "min        8.000000   70.000000  \n",
       "25%       13.900000   73.000000  \n",
       "50%       15.500000   76.000000  \n",
       "75%       17.000000   79.000000  \n",
       "max       24.800000   82.000000  "
      ]
     },
     "execution_count": 16,
     "metadata": {},
     "output_type": "execute_result"
    }
   ],
   "source": [
    "cars.describe()"
   ]
  },
  {
   "cell_type": "code",
   "execution_count": 20,
   "id": "f7183b78",
   "metadata": {},
   "outputs": [
    {
     "data": {
      "image/png": "[encoded data removed]",
      "text/plain": [
       "<Figure size 432x288 with 1 Axes>"
      ]
     },
     "metadata": {
      "needs_background": "light"
     },
     "output_type": "display_data"
    }
   ],
   "source": [
    "sns.boxenplot(x = cars.origin, y = cars.mpg);"
   ]
  },
  {
   "cell_type": "code",
   "execution_count": 22,
   "id": "c77c85e1",
   "metadata": {},
   "outputs": [
    {
     "data": {
      "image/png": "[encoded data removed]",
      "text/plain": [
       "<Figure size 432x288 with 1 Axes>"
      ]
     },
     "metadata": {
      "needs_background": "light"
     },
     "output_type": "display_data"
    }
   ],
   "source": [
    "sns.boxplot(x = \"origin\", y = \"mpg\", data = cars);"
   ]
  },
  {
   "cell_type": "markdown",
   "id": "7bbcf670",
   "metadata": {},
   "source": [
    "**Hue**"
   ]
  },
  {
   "cell_type": "code",
   "execution_count": 23,
   "id": "08c9b023",
   "metadata": {
    "scrolled": true
   },
   "outputs": [
    {
     "data": {
      "image/png": "[encoded data removed]",
      "text/plain": [
       "<Figure size 432x288 with 1 Axes>"
      ]
     },
     "metadata": {
      "needs_background": "light"
     },
     "output_type": "display_data"
    }
   ],
   "source": [
    "sns.boxenplot(x = 'origin', y='mpg', hue='cylinders', data=cars);"
   ]
  },
  {
   "cell_type": "markdown",
   "id": "533e6989",
   "metadata": {},
   "source": [
    "**By Model Year**"
   ]
  },
  {
   "cell_type": "code",
   "execution_count": 24,
   "id": "04a08411",
   "metadata": {},
   "outputs": [
    {
     "data": {
      "text/plain": [
       "count    385.000000\n",
       "mean      75.961039\n",
       "std        3.692058\n",
       "min       70.000000\n",
       "25%       73.000000\n",
       "50%       76.000000\n",
       "75%       79.000000\n",
       "max       82.000000\n",
       "Name: model_year, dtype: float64"
      ]
     },
     "execution_count": 24,
     "metadata": {},
     "output_type": "execute_result"
    }
   ],
   "source": [
    "cars.model_year.describe()"
   ]
  },
  {
   "cell_type": "code",
   "execution_count": 29,
   "id": "1f24753a",
   "metadata": {},
   "outputs": [],
   "source": [
    "cars['newer_model'] = cars.model_year > 76"
   ]
  },
  {
   "cell_type": "code",
   "execution_count": 30,
   "id": "b18dd1ab",
   "metadata": {},
   "outputs": [
    {
     "data": {
      "image/png": "[encoded data removed]",
      "text/plain": [
       "<Figure size 432x288 with 1 Axes>"
      ]
     },
     "metadata": {
      "needs_background": "light"
     },
     "output_type": "display_data"
    }
   ],
   "source": [
    "sns.boxenplot(x = \"origin\", y = \"mpg\", hue='newer_model',data=cars);"
   ]
  },
  {
   "cell_type": "markdown",
   "id": "d459bd05",
   "metadata": {},
   "source": [
    "**Styling Option** "
   ]
  },
  {
   "cell_type": "code",
   "execution_count": 31,
   "id": "577918eb",
   "metadata": {},
   "outputs": [
    {
     "data": {
      "image/png": "[encoded data removed]",
      "text/plain": [
       "<Figure size 432x288 with 1 Axes>"
      ]
     },
     "metadata": {
      "needs_background": "light"
     },
     "output_type": "display_data"
    }
   ],
   "source": [
    "sns.boxenplot(x = 'mpg',y='origin',\n",
    "             data=cars); #Horizontal plot"
   ]
  },
  {
   "cell_type": "code",
   "execution_count": 34,
   "id": "2b7c1802",
   "metadata": {},
   "outputs": [
    {
     "data": {
      "image/png": "[encoded data removed]",
      "text/plain": [
       "<Figure size 432x288 with 1 Axes>"
      ]
     },
     "metadata": {
      "needs_background": "light"
     },
     "output_type": "display_data"
    }
   ],
   "source": [
    "sns.boxenplot(x = 'mpg', y = 'origin', data = cars, \n",
    "             order=['japan','europe', 'usa']);"
   ]
  },
  {
   "cell_type": "code",
   "execution_count": 36,
   "id": "9dfdb882",
   "metadata": {},
   "outputs": [
    {
     "data": {
      "image/png": "[encoded data removed]",
      "text/plain": [
       "<Figure size 432x288 with 1 Axes>"
      ]
     },
     "metadata": {
      "needs_background": "light"
     },
     "output_type": "display_data"
    }
   ],
   "source": [
    "sns.boxenplot(x=\"mpg\", y=\"origin\", hue='newer_model',data=cars,\n",
    "             order=['japan','europe','usa'],hue_order=[True, False]);"
   ]
  },
  {
   "cell_type": "code",
   "execution_count": 38,
   "id": "011a8d80",
   "metadata": {},
   "outputs": [
    {
     "data": {
      "image/png": "[encoded data removed]",
      "text/plain": [
       "<Figure size 432x288 with 1 Axes>"
      ]
     },
     "metadata": {
      "needs_background": "light"
     },
     "output_type": "display_data"
    }
   ],
   "source": [
    "sns.boxenplot(x='mpg',y='origin',data=cars, color='g');"
   ]
  },
  {
   "cell_type": "code",
   "execution_count": 40,
   "id": "eece05fb",
   "metadata": {},
   "outputs": [
    {
     "data": {
      "image/png": "[encoded data removed]",
      "text/plain": [
       "<Figure size 432x288 with 1 Axes>"
      ]
     },
     "metadata": {
      "needs_background": "light"
     },
     "output_type": "display_data"
    }
   ],
   "source": [
    "sns.boxenplot(x='mpg',y='origin',hue='newer_model', data=cars,color='g' );"
   ]
  },
  {
   "cell_type": "markdown",
   "id": "e3d09520",
   "metadata": {},
   "source": [
    "**Width**"
   ]
  },
  {
   "cell_type": "code",
   "execution_count": 41,
   "id": "0eb26cdd",
   "metadata": {},
   "outputs": [
    {
     "data": {
      "image/png": "[encoded data removed]",
      "text/plain": [
       "<Figure size 432x288 with 1 Axes>"
      ]
     },
     "metadata": {
      "needs_background": "light"
     },
     "output_type": "display_data"
    }
   ],
   "source": [
    "sns.boxenplot(x='mpg',y='origin',data=cars,width=0.5);"
   ]
  },
  {
   "cell_type": "code",
   "execution_count": 42,
   "id": "e8333c6e",
   "metadata": {},
   "outputs": [
    {
     "data": {
      "image/png": "[encoded data removed]",
      "text/plain": [
       "<Figure size 432x288 with 1 Axes>"
      ]
     },
     "metadata": {
      "needs_background": "light"
     },
     "output_type": "display_data"
    }
   ],
   "source": [
    "sns.boxenplot(x='mpg',y='origin', data=cars,linewidth=2.5);"
   ]
  },
  {
   "cell_type": "markdown",
   "id": "697cba5d",
   "metadata": {},
   "source": [
    "**Whis:whisker**"
   ]
  },
  {
   "cell_type": "code",
   "execution_count": 45,
   "id": "ded505f3",
   "metadata": {},
   "outputs": [],
   "source": [
    "#sns.boxenplot(x='mpg',y='origin', data=cars, whis=1);"
   ]
  },
  {
   "cell_type": "markdown",
   "id": "2466300c",
   "metadata": {},
   "source": [
    "**fliersize**"
   ]
  },
  {
   "cell_type": "code",
   "execution_count": 48,
   "id": "0e86242c",
   "metadata": {},
   "outputs": [],
   "source": [
    "#sns.boxenplot(x='mpg', y='origin',data=cars, fliersize=10);"
   ]
  },
  {
   "cell_type": "markdown",
   "id": "6aa43a49",
   "metadata": {},
   "source": [
    "**showcaps**"
   ]
  },
  {
   "cell_type": "code",
   "execution_count": 50,
   "id": "b703c7c2",
   "metadata": {},
   "outputs": [],
   "source": [
    "#sns.boxenplot(x='mpg',y='origin', data=cars,showcaps=False);"
   ]
  }
 ],
 "metadata": {
  "kernelspec": {
   "display_name": "Python 3 (ipykernel)",
   "language": "python",
   "name": "python3"
  },
  "language_info": {
   "codemirror_mode": {
    "name": "ipython",
    "version": 3
   },
   "file_extension": ".py",
   "mimetype": "text/x-python",
   "name": "python",
   "nbconvert_exporter": "python",
   "pygments_lexer": "ipython3",
   "version": "3.9.7"
  }
 },
 "nbformat": 4,
 "nbformat_minor": 5
}
